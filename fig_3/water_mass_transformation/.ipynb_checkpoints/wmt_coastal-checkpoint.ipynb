{
 "cells": [
  {
   "cell_type": "code",
   "execution_count": 1,
   "metadata": {},
   "outputs": [],
   "source": [
    "import xarray as xr\n",
    "import numpy as np\n",
    "import matplotlib.pyplot as plt\n",
    "import pop_tools"
   ]
  },
  {
   "cell_type": "code",
   "execution_count": 2,
   "metadata": {},
   "outputs": [],
   "source": [
    "#some set up\n",
    "cesmdir = '/glade/campaign/cgd/cesm/CESM2-LE/timeseries/ocn/proc/tseries/month_1/'\n",
    "varsneeded = ['SALT', 'TEMP', 'SHF', 'SFWF']\n",
    "\n",
    "#region to perform WMT over - currently set for an arbitrary swatch of North Atlantic \n",
    "box = {'nlat':slice(250,380), 'nlon':slice(270,320)}\n",
    "\n",
    "#read ing\n",
    "ds = []\n",
    "for varname in varsneeded:\n",
    "    ds.append(xr.open_dataset(cesmdir+varname+'/b.e21.BHISTcmip6.f09_g17.LE2-1001.001.pop.h.'+varname+'.185001-185912.nc'))\n",
    "\n",
    "ds=xr.merge(ds)\n",
    "\n",
    "#pulling only top layer and the region of interest\n",
    "ds=ds.isel(z_t=0).sel(box)"
   ]
  },
  {
   "cell_type": "code",
   "execution_count": 3,
   "metadata": {},
   "outputs": [
    {
     "data": {
      "text/html": [
       "<pre>&lt;xarray.Dataset&gt;\n",
       "Dimensions:                 (d2: 2, lat_aux_grid: 395, moc_comp: 3, moc_z: 61, nlat: 130, nlon: 50, time: 120, transport_comp: 5, transport_reg: 2, z_t_150m: 15, z_w: 60, z_w_bot: 60, z_w_top: 60)\n",
       "Coordinates:\n",
       "    z_t                     float32 500.0\n",
       "  * z_t_150m                (z_t_150m) float32 500.0 1500.0 ... 13500.0 14500.0\n",
       "  * z_w                     (z_w) float32 0.0 1000.0 ... 500004.7 525000.94\n",
       "  * z_w_top                 (z_w_top) float32 0.0 1000.0 ... 500004.7 525000.94\n",
       "  * z_w_bot                 (z_w_bot) float32 1000.0 2000.0 ... 549999.06\n",
       "  * lat_aux_grid            (lat_aux_grid) float32 -79.48815 -78.952896 ... 90.0\n",
       "  * moc_z                   (moc_z) float32 0.0 1000.0 ... 525000.94 549999.06\n",
       "    ULONG                   (nlat, nlon) float64 264.9 266.1 ... 319.5 320.0\n",
       "    ULAT                    (nlat, nlon) float64 17.89 17.88 ... 70.63 70.63\n",
       "    TLONG                   (nlat, nlon) float64 264.4 265.5 ... 319.2 319.7\n",
       "    TLAT                    (nlat, nlon) float64 17.72 17.71 ... 70.42 70.42\n",
       "  * time                    (time) object 1850-02-01 00:00:00 ... 1860-01-01 00:00:00\n",
       "Dimensions without coordinates: d2, moc_comp, nlat, nlon, transport_comp, transport_reg\n",
       "Data variables:\n",
       "    moc_components          (moc_comp) |S384 b&#x27;Eulerian Mean&#x27; ... b&#x27;Submeso&#x27;\n",
       "    transport_components    (transport_comp) |S384 b&#x27;Total&#x27; ... b&#x27;Submeso Advection&#x27;\n",
       "    transport_regions       (transport_reg) |S384 b&#x27;Global Ocean - Marginal Seas&#x27; b&#x27;Atlantic Ocean + Mediterranean Sea + Labrador Sea + GIN Sea + Arctic Ocean + Hudson Bay&#x27;\n",
       "    dz                      float32 1000.0\n",
       "    dzw                     (z_w) float32 500.0 1000.0 ... 24994.459 24997.176\n",
       "    KMT                     (nlat, nlon) float64 0.0 0.0 0.0 0.0 ... 0.0 0.0 0.0\n",
       "    KMU                     (nlat, nlon) float64 0.0 0.0 0.0 0.0 ... 0.0 0.0 0.0\n",
       "    REGION_MASK             (nlat, nlon) float64 0.0 0.0 0.0 0.0 ... 0.0 0.0 0.0\n",
       "    UAREA                   (nlat, nlon) float64 4.891e+13 ... 9.775e+12\n",
       "    TAREA                   (nlat, nlon) float64 4.851e+13 ... 1.008e+13\n",
       "    HU                      (nlat, nlon) float64 0.0 0.0 0.0 0.0 ... 0.0 0.0 0.0\n",
       "    HT                      (nlat, nlon) float64 0.0 0.0 0.0 0.0 ... 0.0 0.0 0.0\n",
       "    DXU                     (nlat, nlon) float64 1.189e+07 ... 2.023e+06\n",
       "    DYU                     (nlat, nlon) float64 4.112e+06 ... 4.833e+06\n",
       "    DXT                     (nlat, nlon) float64 1.191e+07 ... 2.097e+06\n",
       "    DYT                     (nlat, nlon) float64 4.074e+06 ... 4.806e+06\n",
       "    HTN                     (nlat, nlon) float64 1.189e+07 ... 2.023e+06\n",
       "    HTE                     (nlat, nlon) float64 4.072e+06 ... 4.806e+06\n",
       "    HUS                     (nlat, nlon) float64 1.191e+07 ... 2.097e+06\n",
       "    HUW                     (nlat, nlon) float64 4.115e+06 ... 4.833e+06\n",
       "    ANGLE                   (nlat, nlon) float64 -0.01044 -0.01029 ... 1.626e-07\n",
       "    ANGLET                  (nlat, nlon) float64 -0.01027 -0.01013 ... -0.01081\n",
       "    days_in_norm_year       timedelta64[ns] 365 days\n",
       "    grav                    float64 980.6\n",
       "    omega                   float64 7.292e-05\n",
       "    radius                  float64 6.371e+08\n",
       "    cp_sw                   float64 3.996e+07\n",
       "    sound                   float64 1.5e+05\n",
       "    vonkar                  float64 0.4\n",
       "    cp_air                  float64 1.005e+03\n",
       "    rho_air                 float64 1.292\n",
       "    rho_sw                  float64 1.026\n",
       "    rho_fw                  float64 1.0\n",
       "    stefan_boltzmann        float64 5.67e-08\n",
       "    latent_heat_vapor       float64 2.501e+06\n",
       "    latent_heat_fusion      float64 3.337e+09\n",
       "    latent_heat_fusion_mks  float64 3.337e+05\n",
       "    ocn_ref_salinity        float64 34.7\n",
       "    sea_ice_salinity        float64 4.0\n",
       "    T0_Kelvin               float64 273.1\n",
       "    salt_to_ppt             float64 1e+03\n",
       "    ppt_to_salt             float64 0.001\n",
       "    mass_to_Sv              float64 1e-12\n",
       "    heat_to_PW              float64 4.186e-15\n",
       "    salt_to_Svppt           float64 1e-09\n",
       "    salt_to_mmday           float64 3.154e+05\n",
       "    momentum_factor         float64 10.0\n",
       "    hflux_factor            float64 2.439e-05\n",
       "    fwflux_factor           float64 0.0001\n",
       "    salinity_factor         float64 -0.00347\n",
       "    sflux_factor            float64 0.1\n",
       "    nsurface_t              float64 8.61e+04\n",
       "    nsurface_u              float64 8.297e+04\n",
       "    time_bound              (time, d2) object 1850-01-01 02:00:00 ... 1860-01-01 00:00:00\n",
       "    SALT                    (time, nlat, nlon) float32 nan nan nan ... nan nan\n",
       "    TEMP                    (time, nlat, nlon) float32 nan nan nan ... nan nan\n",
       "    SHF                     (time, nlat, nlon) float32 nan nan nan ... nan nan\n",
       "    SFWF                    (time, nlat, nlon) float32 nan nan nan ... nan nan</pre>"
      ],
      "text/plain": [
       "<xarray.Dataset>\n",
       "Dimensions:                 (d2: 2, lat_aux_grid: 395, moc_comp: 3, moc_z: 61, nlat: 130, nlon: 50, time: 120, transport_comp: 5, transport_reg: 2, z_t_150m: 15, z_w: 60, z_w_bot: 60, z_w_top: 60)\n",
       "Coordinates:\n",
       "    z_t                     float32 500.0\n",
       "  * z_t_150m                (z_t_150m) float32 500.0 1500.0 ... 13500.0 14500.0\n",
       "  * z_w                     (z_w) float32 0.0 1000.0 ... 500004.7 525000.94\n",
       "  * z_w_top                 (z_w_top) float32 0.0 1000.0 ... 500004.7 525000.94\n",
       "  * z_w_bot                 (z_w_bot) float32 1000.0 2000.0 ... 549999.06\n",
       "  * lat_aux_grid            (lat_aux_grid) float32 -79.48815 -78.952896 ... 90.0\n",
       "  * moc_z                   (moc_z) float32 0.0 1000.0 ... 525000.94 549999.06\n",
       "    ULONG                   (nlat, nlon) float64 264.9 266.1 ... 319.5 320.0\n",
       "    ULAT                    (nlat, nlon) float64 17.89 17.88 ... 70.63 70.63\n",
       "    TLONG                   (nlat, nlon) float64 264.4 265.5 ... 319.2 319.7\n",
       "    TLAT                    (nlat, nlon) float64 17.72 17.71 ... 70.42 70.42\n",
       "  * time                    (time) object 1850-02-01 00:00:00 ... 1860-01-01 00:00:00\n",
       "Dimensions without coordinates: d2, moc_comp, nlat, nlon, transport_comp, transport_reg\n",
       "Data variables:\n",
       "    moc_components          (moc_comp) |S384 b'Eulerian Mean' ... b'Submeso'\n",
       "    transport_components    (transport_comp) |S384 b'Total' ... b'Submeso Advection'\n",
       "    transport_regions       (transport_reg) |S384 b'Global Ocean - Marginal Seas' b'Atlantic Ocean + Mediterranean Sea + Labrador Sea + GIN Sea + Arctic Ocean + Hudson Bay'\n",
       "    dz                      float32 1000.0\n",
       "    dzw                     (z_w) float32 500.0 1000.0 ... 24994.459 24997.176\n",
       "    KMT                     (nlat, nlon) float64 0.0 0.0 0.0 0.0 ... 0.0 0.0 0.0\n",
       "    KMU                     (nlat, nlon) float64 0.0 0.0 0.0 0.0 ... 0.0 0.0 0.0\n",
       "    REGION_MASK             (nlat, nlon) float64 0.0 0.0 0.0 0.0 ... 0.0 0.0 0.0\n",
       "    UAREA                   (nlat, nlon) float64 4.891e+13 ... 9.775e+12\n",
       "    TAREA                   (nlat, nlon) float64 4.851e+13 ... 1.008e+13\n",
       "    HU                      (nlat, nlon) float64 0.0 0.0 0.0 0.0 ... 0.0 0.0 0.0\n",
       "    HT                      (nlat, nlon) float64 0.0 0.0 0.0 0.0 ... 0.0 0.0 0.0\n",
       "    DXU                     (nlat, nlon) float64 1.189e+07 ... 2.023e+06\n",
       "    DYU                     (nlat, nlon) float64 4.112e+06 ... 4.833e+06\n",
       "    DXT                     (nlat, nlon) float64 1.191e+07 ... 2.097e+06\n",
       "    DYT                     (nlat, nlon) float64 4.074e+06 ... 4.806e+06\n",
       "    HTN                     (nlat, nlon) float64 1.189e+07 ... 2.023e+06\n",
       "    HTE                     (nlat, nlon) float64 4.072e+06 ... 4.806e+06\n",
       "    HUS                     (nlat, nlon) float64 1.191e+07 ... 2.097e+06\n",
       "    HUW                     (nlat, nlon) float64 4.115e+06 ... 4.833e+06\n",
       "    ANGLE                   (nlat, nlon) float64 -0.01044 -0.01029 ... 1.626e-07\n",
       "    ANGLET                  (nlat, nlon) float64 -0.01027 -0.01013 ... -0.01081\n",
       "    days_in_norm_year       timedelta64[ns] 365 days\n",
       "    grav                    float64 980.6\n",
       "    omega                   float64 7.292e-05\n",
       "    radius                  float64 6.371e+08\n",
       "    cp_sw                   float64 3.996e+07\n",
       "    sound                   float64 1.5e+05\n",
       "    vonkar                  float64 0.4\n",
       "    cp_air                  float64 1.005e+03\n",
       "    rho_air                 float64 1.292\n",
       "    rho_sw                  float64 1.026\n",
       "    rho_fw                  float64 1.0\n",
       "    stefan_boltzmann        float64 5.67e-08\n",
       "    latent_heat_vapor       float64 2.501e+06\n",
       "    latent_heat_fusion      float64 3.337e+09\n",
       "    latent_heat_fusion_mks  float64 3.337e+05\n",
       "    ocn_ref_salinity        float64 34.7\n",
       "    sea_ice_salinity        float64 4.0\n",
       "    T0_Kelvin               float64 273.1\n",
       "    salt_to_ppt             float64 1e+03\n",
       "    ppt_to_salt             float64 0.001\n",
       "    mass_to_Sv              float64 1e-12\n",
       "    heat_to_PW              float64 4.186e-15\n",
       "    salt_to_Svppt           float64 1e-09\n",
       "    salt_to_mmday           float64 3.154e+05\n",
       "    momentum_factor         float64 10.0\n",
       "    hflux_factor            float64 2.439e-05\n",
       "    fwflux_factor           float64 0.0001\n",
       "    salinity_factor         float64 -0.00347\n",
       "    sflux_factor            float64 0.1\n",
       "    nsurface_t              float64 8.61e+04\n",
       "    nsurface_u              float64 8.297e+04\n",
       "    time_bound              (time, d2) object 1850-01-01 02:00:00 ... 1860-01-01 00:00:00\n",
       "    SALT                    (time, nlat, nlon) float32 nan nan nan ... nan nan\n",
       "    TEMP                    (time, nlat, nlon) float32 nan nan nan ... nan nan\n",
       "    SHF                     (time, nlat, nlon) float32 nan nan nan ... nan nan\n",
       "    SFWF                    (time, nlat, nlon) float32 nan nan nan ... nan nan"
      ]
     },
     "execution_count": 3,
     "metadata": {},
     "output_type": "execute_result"
    }
   ],
   "source": [
    "ds.load()"
   ]
  },
  {
   "cell_type": "code",
   "execution_count": 4,
   "metadata": {},
   "outputs": [
    {
     "data": {
      "text/plain": [
       "<matplotlib.collections.QuadMesh at 0x2b2d929c0400>"
      ]
     },
     "execution_count": 4,
     "metadata": {},
     "output_type": "execute_result"
    },
    {
     "data": {
      "image/png": "[encoded data removed]",
      "text/plain": [
       "<Figure size 432x288 with 1 Axes>"
      ]
     },
     "metadata": {
      "needs_background": "light"
     },
     "output_type": "display_data"
    }
   ],
   "source": [
    "s0=ds['ocn_ref_salinity']\n",
    "cp=ds['cp_sw']/1000\n",
    "\n",
    "tlat=ds['TLAT']\n",
    "tlon=ds['TLONG']\n",
    "tarea=ds['TAREA']/(100*100)\n",
    "depth=ds['z_t']\n",
    "ht=ds['HT']\n",
    "depth_top=depth.where(depth<ht, np.nan)/100\n",
    "\n",
    "plt.pcolormesh(depth_top)\n"
   ]
  },
  {
   "cell_type": "code",
   "execution_count": 5,
   "metadata": {},
   "outputs": [],
   "source": [
    "salt=ds['SALT']\n",
    "temp=ds['TEMP']\n",
    "\n",
    "#get stuff from POP EOS\n",
    "rho,drhods,drhodt=pop_tools.eos(salt=salt,temp=temp,return_coefs=True,depth=depth_top)\n",
    "\n",
    "#construct alpha and beta using POP methods\n",
    "alpha=-1*drhodt/rho\n",
    "beta=drhods/rho\n",
    "\n",
    "#put SHF and FW fluxes into units that can be scaled by alpha and beta\n",
    "shf_scaled=ds['SHF']/cp\n",
    "fw_scaled=ds['SFWF']*(salt/1000)/(1-salt/1000)\n",
    "\n",
    "#multiply by alpha and beta to get density fluxes\n",
    "heatpart=-alpha*shf_scaled\n",
    "fwpart=-1*fw_scaled*beta\n",
    "\n",
    "#combine to get total boundary forced density flux\n",
    "densflux=heatpart+fwpart"
   ]
  },
  {
   "cell_type": "code",
   "execution_count": 6,
   "metadata": {},
   "outputs": [],
   "source": [
    "#set up density classes\n",
    "binsize = 0.1 #typical value used\n",
    "dens_class = np.arange(np.floor(rho.min()),np.ceil(rho.max()),binsize)\n",
    "\n",
    "#calculate the WMT\n",
    "wmt=[]\n",
    "for ii in range(len(dens_class[0:-1])):\n",
    "    densf_byclass = densflux.where((rho>=dens_class[ii]) & (rho<dens_class[ii+1]),np.nan)\n",
    "    wmt.append((densf_byclass*tarea).sum(['nlat','nlon'])/binsize)\n",
    "    \n",
    "sigma = xr.DataArray(dens_class[0:-1]+binsize/2-1000, dims=['sigma'], coords={'sigma':dens_class[0:-1]+binsize/2-1000})\n",
    "wmt = xr.concat(wmt, dim = sigma)\n",
    "   \n",
    "wmf = - wmt.diff('sigma')/binsize\n",
    "wmf = wmf.assign_coords({'sigma':sigma[0:-1]+binsize/2})"
   ]
  },
  {
   "cell_type": "code",
   "execution_count": 8,
   "metadata": {},
   "outputs": [
    {
     "data": {
      "text/plain": [
       "Text(0, 0.5, 'WMF (Sv)')"
      ]
     },
     "execution_count": 8,
     "metadata": {},
     "output_type": "execute_result"
    },
    {
     "data": {
      "image/png": "[encoded data removed]",
      "text/plain": [
       "<Figure size 432x288 with 1 Axes>"
      ]
     },
     "metadata": {
      "needs_background": "light"
     },
     "output_type": "display_data"
    },
    {
     "data": {
      "image/png": "[encoded data removed]",
      "text/plain": [
       "<Figure size 432x288 with 1 Axes>"
      ]
     },
     "metadata": {
      "needs_background": "light"
     },
     "output_type": "display_data"
    }
   ],
   "source": [
    "#transformation\n",
    "f=plt.figure()\n",
    "plt.plot(wmt.sigma,wmt.isel(time=0)/1e6)\n",
    "plt.xlabel('sigma')\n",
    "plt.ylabel('WMT (Sv)')\n",
    "\n",
    "#formation\n",
    "f=plt.figure()\n",
    "plt.plot(wmf.sigma,wmf.isel(time=0)/1e6)\n",
    "plt.xlabel('sigma')\n",
    "plt.ylabel('WMF (Sv)')\n"
   ]
  },
  {
   "cell_type": "markdown",
   "metadata": {},
   "source": [
    "To calculate the WMT due to any other process, read in any diag that contributes a freshwater flux, heat flux, or salt flux. Freshwater fluxes get treated the same as SFWF, while heat fluxes get treated the same as SHF. Salt fluxes do not need to be scaled by S/(1-S) like FW fluxes do, but they do need to be multiplied by beta to turn them into density fluxes. It should be possible to fully decompose SHF and SFWF into different contributors.  "
   ]
  },
  {
   "cell_type": "code",
   "execution_count": null,
   "metadata": {},
   "outputs": [],
   "source": []
  }
 ],
 "metadata": {
  "kernelspec": {
   "display_name": "Python 3",
   "language": "python",
   "name": "python3"
  },
  "language_info": {
   "codemirror_mode": {
    "name": "ipython",
    "version": 3
   },
   "file_extension": ".py",
   "mimetype": "text/x-python",
   "name": "python",
   "nbconvert_exporter": "python",
   "pygments_lexer": "ipython3",
   "version": "3.7.3"
  }
 },
 "nbformat": 4,
 "nbformat_minor": 4
}
