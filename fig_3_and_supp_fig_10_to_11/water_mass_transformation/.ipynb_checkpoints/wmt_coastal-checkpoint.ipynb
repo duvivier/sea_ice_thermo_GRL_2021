{
 "cells": [
  {
   "cell_type": "markdown",
   "metadata": {},
   "source": [
    "# Water mass transformation code\n",
    "Adapted from Elizabeth Maroon"
   ]
  },
  {
   "cell_type": "markdown",
   "metadata": {},
   "source": [
    "To calculate the WMT due to any other single process, read in any diag that contributes a freshwater flux, heat flux, or salt flux. It should be possible to fully decompose SHF and SFWF into different contributors. \n",
    "\n",
    "varsneeded for freshwater part => ['SFWF', 'EVAP_F', 'PREC_F', 'IOFF_F', 'SNOW_F', 'ROFF_F', 'SALT_F', 'MELT_F']   \n",
    "varsneeded for heat part => ['SHF', 'QFLUX', 'LWDN_F', 'LWUP_F', 'SENH_F', 'SHF_QSW', 'MELTH_F'] \n",
    "\n",
    "Freshwater fluxes get treated the same as SFWF, while heat fluxes get treated the same as SHF. Salt fluxes (brine rejection and frazil) need to be scaled to a practical salinity and then get multiplied by beta to convert them to a surface density flux.  \n",
    "\n",
    "NOTE: It would probably worthwhile checking with someone to ask about any other possible sources of transformation not included above. EBM? Robert filter? "
   ]
  },
  {
   "cell_type": "code",
   "execution_count": null,
   "metadata": {},
   "outputs": [],
   "source": [
    "import xarray as xr\n",
    "import numpy as np\n",
    "import matplotlib.pyplot as plt\n",
    "import pop_tools\n",
    "from datetime import timedelta\n",
    "import glob"
   ]
  },
  {
   "cell_type": "code",
   "execution_count": null,
   "metadata": {},
   "outputs": [],
   "source": [
    "#choose cases and data paths\n",
    "case1 = 'b.e21.B1850.f09_g17.CMIP6-piControl.001b'\n",
    "case2 = 'b.e21.B1850.f09_g17.CMIP6-piControl.001_bl99b'\n",
    "label1 = 'MUSHY'\n",
    "label2 = 'BL99'\n",
    "\n",
    "data_dir1 = '/glade/campaign/cgd/ppc/dbailey/'+case1+'/ocn/proc/tseries/month_1/'\n",
    "data_dir2 = '/glade/campaign/cgd/ppc/dbailey/'+case2+'/ocn/proc/tseries/month_1/'\n",
    "\n",
    "varsneeded = ['SALT', 'TEMP'] #to calculate surface density sigma_0\n",
    "#vars needed for FW pieces\n",
    "varsneeded = varsneeded + ['SFWF', 'EVAP_F', 'PREC_F', 'IOFF_F', 'SNOW_F', 'ROFF_F', 'SALT_F', 'MELT_F']   \n",
    "#and vars needed for heat pieces\n",
    "varsneeded = varsneeded + ['SHF', 'QFLUX', 'LWDN_F', 'LWUP_F', 'SENH_F', 'SHF_QSW', 'MELTH_F']  "
   ]
  },
  {
   "cell_type": "code",
   "execution_count": null,
   "metadata": {},
   "outputs": [],
   "source": [
    "%%time\n",
    "#reading in files\n",
    "ds1 = []\n",
    "ds2 = []\n",
    "for varname in varsneeded:\n",
    "    print(\"loading \"+varname)   \n",
    "    # This loop takes a long time\n",
    "    my_files=sorted(glob.glob(data_dir1+case1+'.pop.h.'+varname+'.*.nc'))[-2:]\n",
    "    ds1.append(xr.open_mfdataset(my_files,combine='by_coords',chunks={}))\n",
    "    my_files=sorted(glob.glob(data_dir2+case2+'.pop.h.'+varname+'.*.nc'))[-2:]\n",
    "    ds2.append(xr.open_mfdataset(my_files,combine='by_coords',chunks={}))\n",
    "    \n",
    "    # TEST WITH SINGLE FILE OPENING\n",
    "    #ds1.append(xr.open_dataset(data_dir1+case1+'.pop.h.'+varname+'.092101-097012.nc'))\n",
    "    #ds2.append(xr.open_dataset(data_dir2+case2+'.pop.h.'+varname+'.092101-097012.nc'))\n",
    "\n",
    "print(\"Merging files now\")\n",
    "ds1=xr.merge(ds1,compat='override')\n",
    "ds2=xr.merge(ds2,compat='override')"
   ]
  },
  {
   "cell_type": "markdown",
   "metadata": {},
   "source": [
    "## Just coastal points for WMT"
   ]
  },
  {
   "cell_type": "code",
   "execution_count": null,
   "metadata": {},
   "outputs": [],
   "source": [
    "# Load in coastal mask\n",
    "ds_masks = xr.open_mfdataset('/glade/p/cgd/ppc/duvivier/cesm2_antarctic_polynya/DATA/masks/antarctic_ocean_masks_2.nc')\n",
    "my_mask = ds_masks['coast_mask']"
   ]
  },
  {
   "cell_type": "code",
   "execution_count": null,
   "metadata": {},
   "outputs": [],
   "source": [
    "my_mask.plot()"
   ]
  },
  {
   "cell_type": "code",
   "execution_count": null,
   "metadata": {},
   "outputs": [],
   "source": [
    "#region to perform WMT over - coastal mask only \n",
    "ds1=ds1.isel(z_t=0).where(my_mask==1)\n",
    "ds2=ds2.isel(z_t=0).where(my_mask==1)\n",
    "\n",
    "#test that masking worked properly\n",
    "ds1[\"TEMP\"].isel(time=0).plot()"
   ]
  },
  {
   "cell_type": "code",
   "execution_count": null,
   "metadata": {},
   "outputs": [],
   "source": [
    "%%time\n",
    "# Takes ~20 min\n",
    "ds1.load();\n",
    "ds2.load();"
   ]
  },
  {
   "cell_type": "code",
   "execution_count": null,
   "metadata": {},
   "outputs": [],
   "source": [
    "# set some values\n",
    "s0=ds1['ocn_ref_salinity']\n",
    "s0 = s0[0]\n",
    "cp=ds1['cp_sw'].values/10000\n",
    "cp = cp[0]\n",
    "fusion=ds1['latent_heat_fusion'].values/100000\n",
    "fusion = fusion[0]\n",
    "\n",
    "# get grid information\n",
    "tlat=ds1['TLAT']\n",
    "tlon=ds1['TLONG']\n",
    "tarea=ds1['TAREA']/(100*100)  # convert to m2\n",
    "depth=ds1['z_t']\n",
    "ht=ds1['HT']\n",
    "depth_top=depth.where(depth<ht, np.nan)/100\n",
    "\n",
    "# make a quick plot of the area the WMT is done over\n",
    "plt.pcolormesh(depth_top.isel(time=0))"
   ]
  },
  {
   "cell_type": "markdown",
   "metadata": {},
   "source": [
    "### Load Data from CASE1"
   ]
  },
  {
   "cell_type": "code",
   "execution_count": null,
   "metadata": {},
   "outputs": [],
   "source": [
    "## CASE1\n",
    "salt1=ds1['SALT']\n",
    "temp1=ds1['TEMP']\n",
    "\n",
    "#get stuff from POP EOS\n",
    "rho1,drhods1,drhodt1=pop_tools.eos(salt=salt1,temp=temp1,return_coefs=True,depth=depth_top)\n",
    "\n",
    "#construct alpha and beta using POP methods\n",
    "alpha1=-1*drhodt1/rho1\n",
    "beta1=drhods1/rho1"
   ]
  },
  {
   "cell_type": "code",
   "execution_count": null,
   "metadata": {},
   "outputs": [],
   "source": [
    "#adjusting SHF to make for total heat part, adding QFLUX, then dividing by cp dw\n",
    "shf_scaled1 = (ds1['SHF']+ds1['QFLUX'])/cp\n",
    "\n",
    "#adjusting FW to remove the frazil part, then multiplying to turn salt flux into FW flux\n",
    "fw_scaled1 = (ds1['SFWF'] - ds1['QFLUX']/fusion)*(salt1/1000)/(1-salt1/1000)"
   ]
  },
  {
   "cell_type": "code",
   "execution_count": null,
   "metadata": {},
   "outputs": [],
   "source": [
    "#multiply by alpha and beta to get density fluxes\n",
    "heatpart1=-alpha1*shf_scaled1\n",
    "fwpart1=-1*fw_scaled1*beta1\n",
    "\n",
    "#combine to get total boundary forced density flux\n",
    "densflux1=heatpart1+fwpart1"
   ]
  },
  {
   "cell_type": "code",
   "execution_count": null,
   "metadata": {},
   "outputs": [],
   "source": [
    "#Calculate components of the freshwater flux\n",
    "\n",
    "#salt flux (brine rejection) part\n",
    "#needs to be scaled from kg salt to a practical salinity\n",
    "#then it can be multiplied by beta to convert to a surface density flux\n",
    "salinity_factor1 = ds1['salinity_factor']\n",
    "sflux_factor1 = ds1['sflux_factor']            \n",
    "salt_f_fixed1 = ds1['SALT_F']*sflux_factor1/salinity_factor1  \n",
    "saltpart1=-1*beta1*salt_f_fixed1\n",
    "\n",
    "#freshwater flux from qflux (frazil) part\n",
    "qflux_fw_fixed1 = -1*ds1['QFLUX']/fusion\n",
    "frazilpart1=-1*beta1*qflux_fw_fixed1\n",
    "\n",
    "#evaporation part\n",
    "evappart1 = -1*beta1*(ds1['EVAP_F']*(salt1/1000)/(1-salt1/1000))\n",
    "\n",
    "#ice melt part\n",
    "meltpart1 = -1*beta1*(ds1['MELT_F']*(salt1/1000)/(1-salt1/1000))\n",
    "\n",
    "#precip part\n",
    "precippart1 = -1*beta1*(ds1['PREC_F']*(salt1/1000)/(1-salt1/1000))\n",
    "\n",
    "#runoff part - sum of liquid and solid runoff\n",
    "runoffpart1 = -1*beta1*((ds1['ROFF_F']+ds1['IOFF_F'])*(salt1/1000)/(1-salt1/1000))\n",
    "\n",
    "#total salt reconstructed\n",
    "fwpart_recons1 = saltpart1+frazilpart1+evappart1+meltpart1+precippart1+runoffpart1"
   ]
  },
  {
   "cell_type": "code",
   "execution_count": null,
   "metadata": {},
   "outputs": [],
   "source": [
    "# heat components - not going to get into these because heat flux is so much smaller than FW fluxes\n",
    "\n",
    "##to get latent heat flux, need to convert EVAP_F from FW flux to heat flux via latent heat of vaporization\n",
    "#vaporization = ds['latent_heat_vapor']\n",
    "\n",
    "#latent_heat = ds['EVAP_F']*vaporization\n",
    "##can now be multiplied by alpha to convert to a surf dens flux\n",
    "\n",
    "##snow melt needs to be converted from a FW flux to a heat flux via latent heat of fusion\n",
    "#snow_melt_heating = ds['SNOW_F']*fusion*-1\n",
    "##Multiplied by negative one b/c melt (positive) leads to cooling (negative)\n",
    "##can now be multiplied by alpha to convert to a surf dens flux\n",
    "\n",
    "##same goes for ice melt runoff (solid)\n",
    "#ioff_heating = ds['IOFF_F']*fusion*-1"
   ]
  },
  {
   "cell_type": "markdown",
   "metadata": {},
   "source": [
    "### Load Data from CASE2"
   ]
  },
  {
   "cell_type": "code",
   "execution_count": null,
   "metadata": {},
   "outputs": [],
   "source": [
    "## CASE2\n",
    "salt2=ds2['SALT']\n",
    "temp2=ds2['TEMP']\n",
    "\n",
    "#get stuff from POP EOS\n",
    "rho2,drhods2,drhodt2=pop_tools.eos(salt=salt2,temp=temp2,return_coefs=True,depth=depth_top)\n",
    "\n",
    "#construct alpha and beta using POP methods\n",
    "alpha2=-1*drhodt2/rho2\n",
    "beta2=drhods2/rho2"
   ]
  },
  {
   "cell_type": "code",
   "execution_count": null,
   "metadata": {},
   "outputs": [],
   "source": [
    "#adjusting SHF to make for total heat part, adding QFLUX, then dividing by cp dw\n",
    "shf_scaled2 = (ds2['SHF']+ds2['QFLUX'])/cp\n",
    "\n",
    "#adjusting FW to remove the frazil part, then multiplying to turn salt flux into FW flux\n",
    "fw_scaled2 = (ds2['SFWF'] - ds2['QFLUX']/fusion)*(salt2/1000)/(1-salt2/1000)"
   ]
  },
  {
   "cell_type": "code",
   "execution_count": null,
   "metadata": {},
   "outputs": [],
   "source": [
    "#multiply by alpha and beta to get density fluxes\n",
    "heatpart2=-alpha2*shf_scaled2\n",
    "fwpart2=-1*fw_scaled2*beta2\n",
    "\n",
    "#combine to get total boundary forced density flux\n",
    "densflux2=heatpart2+fwpart2"
   ]
  },
  {
   "cell_type": "code",
   "execution_count": null,
   "metadata": {},
   "outputs": [],
   "source": [
    "#Calculate components of the freshwater flux\n",
    "\n",
    "#salt flux (brine rejection) part\n",
    "#needs to be scaled from kg salt to a practical salinity\n",
    "#then it can be multiplied by beta to convert to a surface density flux\n",
    "salinity_factor2 = ds2['salinity_factor']\n",
    "sflux_factor2 = ds2['sflux_factor']            \n",
    "salt_f_fixed2 = ds2['SALT_F']*sflux_factor2/salinity_factor2  \n",
    "saltpart2=-1*beta2*salt_f_fixed2\n",
    "\n",
    "#freshwater flux from qflux (frazil) part\n",
    "qflux_fw_fixed2 = -1*ds2['QFLUX']/fusion\n",
    "frazilpart2=-1*beta2*qflux_fw_fixed2\n",
    "\n",
    "#evaporation part\n",
    "evappart2 = -1*beta2*(ds2['EVAP_F']*(salt2/1000)/(1-salt2/1000))\n",
    "\n",
    "#ice melt part\n",
    "meltpart2 = -1*beta2*(ds2['MELT_F']*(salt2/1000)/(1-salt2/1000))\n",
    "\n",
    "#precip part\n",
    "precippart2 = -1*beta2*(ds2['PREC_F']*(salt2/1000)/(1-salt2/1000))\n",
    "\n",
    "#runoff part - sum of liquid and solid runoff\n",
    "runoffpart2 = -1*beta2*((ds2['ROFF_F']+ds2['IOFF_F'])*(salt2/1000)/(1-salt2/1000))\n",
    "\n",
    "#total salt reconstructed\n",
    "fwpart_recons2 = saltpart2+frazilpart2+evappart2+meltpart2+precippart2+runoffpart2"
   ]
  },
  {
   "cell_type": "markdown",
   "metadata": {},
   "source": [
    "### Calculate WMT"
   ]
  },
  {
   "cell_type": "code",
   "execution_count": null,
   "metadata": {},
   "outputs": [],
   "source": [
    "#function for WMT \n",
    "def wmtrans(oneflux,dens_class,rho):\n",
    "    binsize = dens_class[2]-dens_class[1]\n",
    "    #assumes uniform density class spacing\n",
    "    wmt=[]\n",
    "    for ii in range(len(dens_class[0:-1])):\n",
    "        densf_byclass = oneflux.where((rho>=dens_class[ii]) & (rho<dens_class[ii+1]),np.nan)\n",
    "        wmt.append((densf_byclass*tarea).sum(['nlat','nlon'])/binsize)\n",
    "    wmt = xr.concat(wmt, dim = sigma)\n",
    "    return wmt\n",
    "    \n",
    "#set up density classes\n",
    "binsize = 0.1 #typical value used\n",
    "dens_class = np.arange(np.floor(rho1.min()),np.ceil(rho1.max()),binsize)\n",
    "sigma = xr.DataArray(dens_class[0:-1]+binsize/2-1000, dims=['sigma'], coords={'sigma':dens_class[0:-1]+binsize/2-1000})\n"
   ]
  },
  {
   "cell_type": "code",
   "execution_count": null,
   "metadata": {},
   "outputs": [],
   "source": [
    "%%time\n",
    "# Takes ~8.5 min\n",
    "# CASE1\n",
    "#calculate the WMT\n",
    "wmt1 = wmtrans(densflux1, dens_class, rho1)\n",
    "wmt1_heat = wmtrans(heatpart1, dens_class, rho1)\n",
    "wmt1_fresh = wmtrans(fwpart1, dens_class, rho1)\n",
    "#calculate WMF from WMT   \n",
    "wmf1 = - wmt1.diff('sigma')/binsize\n",
    "wmf1 = wmf1.assign_coords({'sigma':sigma[0:-1]+binsize/2})\n",
    "wmf1_fresh = - wmt1_fresh.diff('sigma')/binsize\n",
    "wmf1_fresh = wmf1_fresh.assign_coords({'sigma':sigma[0:-1]+binsize/2})\n",
    "wmf1_heat = - wmt1_heat.diff('sigma')/binsize\n",
    "wmf1_heat = wmf1_heat.assign_coords({'sigma':sigma[0:-1]+binsize/2})"
   ]
  },
  {
   "cell_type": "code",
   "execution_count": null,
   "metadata": {},
   "outputs": [],
   "source": [
    "%%time\n",
    "# Takes ~8.5 min\n",
    "# CASE2\n",
    "#calculate the WMT\n",
    "wmt2 = wmtrans(densflux2, dens_class, rho2)\n",
    "wmt2_heat = wmtrans(heatpart2, dens_class, rho2)\n",
    "wmt2_fresh = wmtrans(fwpart2, dens_class, rho2)\n",
    "# calculate WMF from WMT  \n",
    "wmf2 = - wmt2.diff('sigma')/binsize\n",
    "wmf2 = wmf2.assign_coords({'sigma':sigma[0:-1]+binsize/2})\n",
    "wmf2_fresh = - wmt2_fresh.diff('sigma')/binsize\n",
    "wmf2_fresh = wmf2_fresh.assign_coords({'sigma':sigma[0:-1]+binsize/2})\n",
    "wmf2_heat = - wmt2_heat.diff('sigma')/binsize\n",
    "wmf2_heat = wmf2_heat.assign_coords({'sigma':sigma[0:-1]+binsize/2})"
   ]
  },
  {
   "cell_type": "markdown",
   "metadata": {},
   "source": [
    "### Calculate WMT - individual FW terms"
   ]
  },
  {
   "cell_type": "code",
   "execution_count": null,
   "metadata": {},
   "outputs": [],
   "source": [
    "%%time\n",
    "# ~20min\n",
    "# CASE1 - FW terms\n",
    "#calculate the WMT\n",
    "wmt1_salt = wmtrans(saltpart1, dens_class, rho1)\n",
    "wmt1_frazil = wmtrans(frazilpart1, dens_class, rho1)\n",
    "wmt1_evap = wmtrans(evappart1, dens_class, rho1)\n",
    "wmt1_melt = wmtrans(meltpart1, dens_class, rho1)\n",
    "wmt1_precip = wmtrans(precippart1, dens_class, rho1)\n",
    "wmt1_runoff = wmtrans(runoffpart1, dens_class, rho1)\n",
    "wmt1_recons = wmtrans(fwpart_recons1, dens_class, rho1)\n",
    "\n",
    "#calculate WMF from WMT   \n",
    "wmf1_salt = - wmt1_salt.diff('sigma')/binsize\n",
    "wmf1_salt = wmf1_salt.assign_coords({'sigma':sigma[0:-1]+binsize/2})\n",
    "wmf1_frazil = - wmt1_frazil.diff('sigma')/binsize\n",
    "wmf1_frazil = wmf1_frazil.assign_coords({'sigma':sigma[0:-1]+binsize/2})\n",
    "wmf1_evap = - wmt1_evap.diff('sigma')/binsize\n",
    "wmf1_evap = wmf1_evap.assign_coords({'sigma':sigma[0:-1]+binsize/2})\n",
    "wmf1_precip = - wmt1_precip.diff('sigma')/binsize\n",
    "wmf1_precip = wmf1_precip.assign_coords({'sigma':sigma[0:-1]+binsize/2})\n",
    "wmf1_runoff = - wmt1_runoff.diff('sigma')/binsize\n",
    "wmf1_runoff = wmf1_runoff.assign_coords({'sigma':sigma[0:-1]+binsize/2})\n",
    "wmf1_recons = - wmt1_recons.diff('sigma')/binsize\n",
    "wmf1_recons = wmf1_recons.assign_coords({'sigma':sigma[0:-1]+binsize/2})"
   ]
  },
  {
   "cell_type": "code",
   "execution_count": null,
   "metadata": {},
   "outputs": [],
   "source": [
    "%%time\n",
    "# ~20min\n",
    "# CASE2 - FW terms\n",
    "#calculate the WMT\n",
    "wmt2_salt = wmtrans(saltpart2, dens_class, rho2)\n",
    "wmt2_frazil = wmtrans(frazilpart2, dens_class, rho2)\n",
    "wmt2_evap = wmtrans(evappart2, dens_class, rho2)\n",
    "wmt2_melt = wmtrans(meltpart2, dens_class, rho2)\n",
    "wmt2_precip = wmtrans(precippart2, dens_class, rho2)\n",
    "wmt2_runoff = wmtrans(runoffpart2, dens_class, rho2)\n",
    "wmt2_recons = wmtrans(fwpart_recons2, dens_class, rho2)\n",
    "\n",
    "#calculate WMF from WMT   \n",
    "wmf2_salt = - wmt2_salt.diff('sigma')/binsize\n",
    "wmf2_salt = wmf2_salt.assign_coords({'sigma':sigma[0:-1]+binsize/2})\n",
    "wmf2_frazil = - wmt2_frazil.diff('sigma')/binsize\n",
    "wmf2_frazil = wmf2_frazil.assign_coords({'sigma':sigma[0:-1]+binsize/2})\n",
    "wmf2_evap = - wmt2_evap.diff('sigma')/binsize\n",
    "wmf2_evap = wmf2_evap.assign_coords({'sigma':sigma[0:-1]+binsize/2})\n",
    "wmf2_precip = - wmt2_precip.diff('sigma')/binsize\n",
    "wmf2_precip = wmf2_precip.assign_coords({'sigma':sigma[0:-1]+binsize/2})\n",
    "wmf2_runoff = - wmt2_runoff.diff('sigma')/binsize\n",
    "wmf2_runoff = wmf2_runoff.assign_coords({'sigma':sigma[0:-1]+binsize/2})\n",
    "wmf2_recons = - wmt2_recons.diff('sigma')/binsize\n",
    "wmf2_recons = wmf2_recons.assign_coords({'sigma':sigma[0:-1]+binsize/2})"
   ]
  },
  {
   "cell_type": "markdown",
   "metadata": {},
   "source": [
    "#### old WMT calculation (pre function)"
   ]
  },
  {
   "cell_type": "code",
   "execution_count": null,
   "metadata": {},
   "outputs": [],
   "source": [
    "# OLD WAY\n",
    "#calculate the WMT (total)\n",
    "#wmt1=[]\n",
    "#for ii in range(len(dens_class[0:-1])):\n",
    "#    # CASE 1\n",
    "#    densf_byclass = densflux1.where((rho1>=dens_class[ii]) & (rho1<dens_class[ii+1]),np.nan)\n",
    "#    wmt1.append((densf_byclass*tarea).sum(['nlat','nlon'])/binsize)\n",
    "\n",
    "# Set sigma as a coordinate in the arrays\n",
    "#wmt1 = xr.concat(wmt1, dim = sigma)   \n",
    "#wmf1 = - wmt1.diff('sigma')/binsize\n",
    "#wmf1 = wmf1.assign_coords({'sigma':sigma[0:-1]+binsize/2})"
   ]
  },
  {
   "cell_type": "markdown",
   "metadata": {},
   "source": [
    "### Calculate means and differences"
   ]
  },
  {
   "cell_type": "code",
   "execution_count": null,
   "metadata": {},
   "outputs": [],
   "source": [
    "# Get annual mean WMT values \n",
    "wmt1_ann = wmt1.mean(dim=\"time\")\n",
    "wmf1_ann = wmf1.mean(dim=\"time\")\n",
    "wmt1_fresh_ann = wmt1_fresh.mean(dim=\"time\")\n",
    "wmf1_fresh_ann = wmf1_fresh.mean(dim=\"time\")\n",
    "wmt1_heat_ann = wmt1_heat.mean(dim=\"time\")\n",
    "wmf1_heat_ann = wmf1_heat.mean(dim=\"time\")\n",
    "\n",
    "wmt2_ann = wmt2.mean(dim=\"time\")\n",
    "wmf2_ann = wmf2.mean(dim=\"time\")\n",
    "wmt2_fresh_ann = wmt2_fresh.mean(dim=\"time\")\n",
    "wmf2_fresh_ann = wmf2_fresh.mean(dim=\"time\")\n",
    "wmt2_heat_ann = wmt2_heat.mean(dim=\"time\")\n",
    "wmf2_heat_ann = wmf2_heat.mean(dim=\"time\")"
   ]
  },
  {
   "cell_type": "code",
   "execution_count": null,
   "metadata": {},
   "outputs": [],
   "source": [
    "# calculate differences between two datasets\n",
    "wmt_ann_diff = wmt1_ann - wmt2_ann\n",
    "wmf_ann_diff = wmf1_ann - wmf2_ann\n",
    "\n",
    "wmt_fresh_ann_diff = wmt1_fresh_ann - wmt2_fresh_ann\n",
    "wmf_fresh_ann_diff = wmf1_fresh_ann - wmf2_fresh_ann\n",
    "\n",
    "wmt_heat_ann_diff = wmt1_heat_ann - wmt2_heat_ann\n",
    "wmf_heat_ann_diff = wmf1_heat_ann - wmf2_heat_ann"
   ]
  },
  {
   "cell_type": "markdown",
   "metadata": {},
   "source": [
    "### Plot some of the results"
   ]
  },
  {
   "cell_type": "code",
   "execution_count": null,
   "metadata": {},
   "outputs": [],
   "source": [
    "##Plot total transformation - just first timestep to check\n",
    "#f=plt.figure()\n",
    "#plt.plot(wmt1.sigma,wmt1.isel(time=0)/1e6,label=label1)\n",
    "#plt.plot(wmt2.sigma,wmt2.isel(time=0)/1e6,label=label2)\n",
    "#plt.xlabel('sigma')\n",
    "#plt.ylabel('WMT (Sv)')\n",
    "\n",
    "##formation\n",
    "#f=plt.figure()\n",
    "#plt.plot(wmf1.sigma,wmf1.isel(time=0)/1e6,label=label1)\n",
    "#plt.plot(wmf2.sigma,wmf2.isel(time=0)/1e6,label=label2)\n",
    "#plt.xlabel('sigma')\n",
    "#plt.ylabel('WMF (Sv)')"
   ]
  },
  {
   "cell_type": "code",
   "execution_count": null,
   "metadata": {},
   "outputs": [],
   "source": [
    "#Plot transformations averaged over all time\n",
    "f=plt.figure()\n",
    "plt.plot(wmt1_ann.sigma,wmt1_ann/1e6,label=\"All \"+label1,color='goldenrod',linestyle='-')\n",
    "plt.plot(wmt1_fresh_ann.sigma,wmt1_fresh_ann/1e6,label=\"Fresh \"+label1,color='blue',linestyle='-')\n",
    "plt.plot(wmt1_heat_ann.sigma,wmt1_heat_ann/1e6,label=\"Heat \"+label1,color='red',linestyle='-')\n",
    "plt.plot(wmt2_ann.sigma,wmt2_ann/1e6,label=\"All \"+label2,color='goldenrod',linestyle='--')\n",
    "plt.plot(wmt2_fresh_ann.sigma,wmt2_fresh_ann/1e6,label=\"Fresh \"+label1,color='blue',linestyle='--')\n",
    "plt.plot(wmt2_heat_ann.sigma,wmt2_heat_ann/1e6,label=\"Heat \"+label1,color='red',linestyle='--')\n",
    "plt.title('Annual mean water mass transformation')\n",
    "plt.xlabel('sigma')\n",
    "plt.xlim([25,28.5])\n",
    "plt.ylabel('Transformation Rate (Sv)')\n",
    "plt.ylim([-5,25])\n",
    "#plt.ylim([-20,5])\n",
    "plt.axhline(y=0.0, color='grey', linestyle='-', linewidth=0.5)\n",
    "plt.legend()\n",
    "plt.savefig('coastal_WMT.png', bbox_inches='tight', dpi=200)\n",
    "\n",
    "#Plot formation averaged over all time\n",
    "f=plt.figure()\n",
    "plt.plot(wmf1_ann.sigma,wmf1_ann/1e6,label=\"All \"+label1,color='goldenrod',linestyle='-')\n",
    "plt.plot(wmf1_fresh_ann.sigma,wmf1_fresh_ann/1e6,label=\"Fresh \"+label1,color='blue',linestyle='-')\n",
    "plt.plot(wmf1_heat_ann.sigma,wmf1_heat_ann/1e6,label=\"Heat \"+label1,color='red',linestyle='-')\n",
    "plt.plot(wmf2_ann.sigma,wmf2_ann/1e6,label=\"All \"+label2,color='goldenrod',linestyle='--')\n",
    "plt.plot(wmf2_fresh_ann.sigma,wmf2_fresh_ann/1e6,label=\"Fresh \"+label1,color='blue',linestyle='--')\n",
    "plt.plot(wmf2_heat_ann.sigma,wmf2_heat_ann/1e6,label=\"Heat \"+label1,color='red',linestyle='--')\n",
    "plt.title('Annual mean water mass formation')\n",
    "plt.xlabel('sigma')\n",
    "plt.xlim([25,28.5])\n",
    "plt.ylabel('Formation Rate (Sv)')\n",
    "plt.ylim([-70,70])\n",
    "#plt.ylim([-20,5])\n",
    "plt.axhline(y=0.0, color='grey', linestyle='-', linewidth=0.5)\n",
    "plt.legend()\n",
    "plt.savefig('coastal_WMF.png', bbox_inches='tight', dpi=200)\n",
    "\n"
   ]
  },
  {
   "cell_type": "code",
   "execution_count": null,
   "metadata": {},
   "outputs": [],
   "source": [
    "#Plot transformations averaged over all time\n",
    "f=plt.figure()\n",
    "plt.plot(wmt1_ann.sigma,wmt1_ann/1e6,label=\"All\",color='black')\n",
    "plt.plot(wmt1_fresh_ann.sigma,wmt1_fresh_ann/1e6,label=\"Fresh\",color='blue',linestyle='--')\n",
    "plt.plot(wmt1_heat_ann.sigma,wmt1_heat_ann/1e6,label=\"Heat\",color='goldenrod',linestyle='--')\n",
    "plt.title('Annual mean: '+label1)\n",
    "plt.xlabel('sigma')\n",
    "plt.xlim([25,28.5])\n",
    "plt.ylabel('Transformation Rate (Sv)')\n",
    "plt.ylim([-5,25])\n",
    "#plt.ylim([-20,5])\n",
    "plt.axhline(y=0.0, color='grey', linestyle='-', linewidth=0.5)\n",
    "plt.legend()\n",
    "plt.savefig(label1+'_coastal_WMT.png', bbox_inches='tight', dpi=200)\n",
    "\n",
    "f=plt.figure()\n",
    "plt.plot(wmt2_ann.sigma,wmt2_ann/1e6,label=\"All\",color='black')\n",
    "plt.plot(wmt2_fresh_ann.sigma,wmt2_fresh_ann/1e6,label=\"Fresh\",color='blue',linestyle='--')\n",
    "plt.plot(wmt2_heat_ann.sigma,wmt2_heat_ann/1e6,label=\"Heat\",color='goldenrod',linestyle='--')\n",
    "plt.title('Annual mean: '+label2)\n",
    "plt.xlabel('sigma')\n",
    "plt.xlim([25,28.5])\n",
    "plt.ylabel('Transformation Rate (Sv)')\n",
    "plt.ylim([-5,25])\n",
    "#plt.ylim([-20,5])\n",
    "plt.axhline(y=0.0, color='grey', linestyle='-', linewidth=0.5)\n",
    "plt.legend()\n",
    "plt.savefig(label2+'_coastal_WMT.png', bbox_inches='tight', dpi=200)\n",
    "\n",
    "#Plot difference in transformation averaged over all time\n",
    "f=plt.figure()\n",
    "plt.plot(wmt_ann_diff.sigma,wmt_ann_diff/1e6,label=\"All\",color='black')\n",
    "plt.plot(wmt_fresh_ann_diff.sigma,wmt_fresh_ann_diff/1e6,label=\"Fresh\",color='blue',linestyle='--')\n",
    "plt.plot(wmt_heat_ann_diff.sigma,wmt_heat_ann_diff/1e6,label=\"Heat\",color='goldenrod',linestyle='--')\n",
    "plt.title('Annual mean diff: '+label1+'-'+label2)\n",
    "plt.xlabel('sigma')\n",
    "plt.xlim([25,28.5])\n",
    "plt.ylabel('Transformation Rate (Sv)')\n",
    "plt.ylim([-10,1])\n",
    "#plt.ylim([-1,3])\n",
    "plt.axhline(y=0.0, color='grey', linestyle='-', linewidth=0.5)\n",
    "plt.legend()\n",
    "plt.savefig(label1+'_minus_'+label2+'_coastal_WMT.png', bbox_inches='tight', dpi=200)"
   ]
  },
  {
   "cell_type": "code",
   "execution_count": null,
   "metadata": {},
   "outputs": [],
   "source": [
    "#Plot formations averaged over all time\n",
    "f=plt.figure()\n",
    "plt.plot(wmf1_ann.sigma,wmf1_ann/1e6,label=\"All\",color='black')\n",
    "plt.plot(wmf1_fresh_ann.sigma,wmf1_fresh_ann/1e6,label=\"Fresh\",color='blue',linestyle='--')\n",
    "plt.plot(wmf1_heat_ann.sigma,wmf1_heat_ann/1e6,label=\"Heat\",color='goldenrod',linestyle='--')\n",
    "plt.title('Annual mean: '+label1)\n",
    "plt.xlabel('sigma')\n",
    "plt.xlim([25,28.5])\n",
    "plt.ylabel('Formation Rate (Sv)')\n",
    "plt.ylim([-60,70])\n",
    "plt.axhline(y=0.0, color='grey', linestyle='-', linewidth=0.5)\n",
    "plt.legend()\n",
    "plt.savefig(label1+'_coastal_WMF.png', bbox_inches='tight', dpi=200)\n",
    "\n",
    "f=plt.figure()\n",
    "plt.plot(wmf2_ann.sigma,wmf2_ann/1e6,label=\"All\",color='black')\n",
    "plt.plot(wmf2_fresh_ann.sigma,wmf2_fresh_ann/1e6,label=\"Fresh\",color='blue',linestyle='--')\n",
    "plt.plot(wmf2_heat_ann.sigma,wmf2_heat_ann/1e6,label=\"Heat\",color='goldenrod',linestyle='--')\n",
    "plt.title('Annual mean: '+label2)\n",
    "plt.xlabel('sigma')\n",
    "plt.xlim([25,28.5])\n",
    "plt.ylabel('Formation Rate (Sv)')\n",
    "plt.ylim([-60,70])\n",
    "plt.axhline(y=0.0, color='grey', linestyle='-')\n",
    "plt.legend()\n",
    "plt.savefig(label2+'_coastal_WMF.png', bbox_inches='tight', dpi=200)\n",
    "\n",
    "#Plot difference in transformation averaged over all time\n",
    "f=plt.figure()\n",
    "plt.plot(wmf_ann_diff.sigma,wmf_ann_diff/1e6,label=\"All\",color='black')\n",
    "plt.plot(wmf_fresh_ann_diff.sigma,wmf_fresh_ann_diff/1e6,label=\"Fresh\",color='blue',linestyle='--')\n",
    "plt.plot(wmf_heat_ann_diff.sigma,wmf_heat_ann_diff/1e6,label=\"Heat\",color='goldenrod',linestyle='--')\n",
    "plt.title('Annual mean diff: '+label1+'-'+label2)\n",
    "plt.xlabel('sigma')\n",
    "plt.xlim([25,28.5])\n",
    "plt.ylabel('Formation Rate (Sv)')\n",
    "plt.ylim([-30,30])\n",
    "plt.axhline(y=0.0, color='grey', linestyle='-')\n",
    "plt.legend()\n",
    "plt.savefig(label1+'_minus_'+label2+'_coastal_WMF.png', bbox_inches='tight', dpi=200)"
   ]
  },
  {
   "cell_type": "code",
   "execution_count": null,
   "metadata": {},
   "outputs": [],
   "source": [
    "colors = ['red' if (value > 0) else 'blue' for value in wmf_ann_diff]\n",
    "\n",
    "f=plt.figure()\n",
    "plt.bar(wmf_ann_diff.sigma,wmf_ann_diff/1e6,align='edge',edgecolor='black',color=colors,width=0.1)\n",
    "plt.title('Annual mean diff: '+label1+'-'+label2)\n",
    "plt.xlabel('sigma')\n",
    "plt.xlim([25,28.5])\n",
    "plt.ylabel('Total Formation Rate (Sv)')\n",
    "plt.axhline(y=0.0, color='grey', linestyle='-')\n",
    "#plt.axvline(x=28.2, color='grey', linestyle='-')\n",
    "plt.savefig(label1+'_minus_'+label2+'_coastal_WMF.png', bbox_inches='tight', dpi=200)"
   ]
  },
  {
   "cell_type": "code",
   "execution_count": null,
   "metadata": {},
   "outputs": [],
   "source": []
  }
 ],
 "metadata": {
  "kernelspec": {
   "display_name": "Python [conda env:miniconda3-antarctica_som_env]",
   "language": "python",
   "name": "conda-env-miniconda3-antarctica_som_env-py"
  },
  "language_info": {
   "codemirror_mode": {
    "name": "ipython",
    "version": 3
   },
   "file_extension": ".py",
   "mimetype": "text/x-python",
   "name": "python",
   "nbconvert_exporter": "python",
   "pygments_lexer": "ipython3",
   "version": "3.7.9"
  }
 },
 "nbformat": 4,
 "nbformat_minor": 4
}
