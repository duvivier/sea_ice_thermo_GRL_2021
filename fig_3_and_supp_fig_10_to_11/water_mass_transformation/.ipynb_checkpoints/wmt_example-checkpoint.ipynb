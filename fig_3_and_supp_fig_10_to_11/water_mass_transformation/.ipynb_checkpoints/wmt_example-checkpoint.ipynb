{
 "cells": [
  {
   "cell_type": "code",
   "execution_count": 1,
   "metadata": {},
   "outputs": [],
   "source": [
    "import xarray as xr\n",
    "import numpy as np\n",
    "import matplotlib.pyplot as plt\n",
    "import pop_tools"
   ]
  },
  {
   "cell_type": "code",
   "execution_count": 2,
   "metadata": {},
   "outputs": [
    {
     "name": "stdout",
     "output_type": "stream",
     "text": [
      "CPU times: user 2.04 s, sys: 375 ms, total: 2.42 s\n",
      "Wall time: 5.25 s\n"
     ]
    }
   ],
   "source": [
    "%%time\n",
    "#some set up\n",
    "cesmdir = '/glade/campaign/cgd/cesm/CESM2-LE/timeseries/ocn/proc/tseries/month_1/'\n",
    "\n",
    "varsneeded = ['SALT', 'TEMP'] #to calculate surface density sigma_0\n",
    "#vars needed for FW pieces\n",
    "varsneeded = varsneeded + ['SFWF', 'EVAP_F', 'PREC_F', 'IOFF_F', 'SNOW_F', 'ROFF_F', 'SALT_F', 'MELT_F']   \n",
    "#and vars needed for heat pieces\n",
    "varsneeded = varsneeded + ['SHF', 'QFLUX', 'LWDN_F', 'LWUP_F', 'SENH_F', 'SHF_QSW', 'MELTH_F']  \n",
    "\n",
    "#reading in\n",
    "ds = []\n",
    "for varname in varsneeded:\n",
    "    ds.append(xr.open_dataset(cesmdir+varname+'/b.e21.BHISTcmip6.f09_g17.LE2-1001.001.pop.h.'+varname+'.185001-185912.nc'))\n",
    "\n",
    "ds=xr.merge(ds)"
   ]
  },
  {
   "cell_type": "code",
   "execution_count": 3,
   "metadata": {},
   "outputs": [],
   "source": [
    "#region to perform WMT over - currently set for an arbitrary swatch of North Atlantic \n",
    "box = {'nlat':slice(250,380), 'nlon':slice(270,320)}\n",
    "\n",
    "#pulling only top layer and the region of interest\n",
    "ds=ds.isel(z_t=0).sel(box)"
   ]
  },
  {
   "cell_type": "code",
   "execution_count": null,
   "metadata": {},
   "outputs": [],
   "source": [
    "%%time\n",
    "ds.load()"
   ]
  },
  {
   "cell_type": "code",
   "execution_count": null,
   "metadata": {},
   "outputs": [],
   "source": [
    "s0=ds['ocn_ref_salinity']\n",
    "cp=ds['cp_sw'].values/10000\n",
    "fusion=ds['latent_heat_fusion'].values/100000\n",
    "\n",
    "tlat=ds['TLAT']\n",
    "tlon=ds['TLONG']\n",
    "tarea=ds['TAREA']/(100*100)\n",
    "depth=ds['z_t']\n",
    "ht=ds['HT']\n",
    "depth_top=depth.where(depth<ht, np.nan)/100\n",
    "\n",
    "plt.pcolormesh(depth_top)\n"
   ]
  },
  {
   "cell_type": "code",
   "execution_count": null,
   "metadata": {},
   "outputs": [],
   "source": []
  },
  {
   "cell_type": "code",
   "execution_count": null,
   "metadata": {},
   "outputs": [],
   "source": []
  },
  {
   "cell_type": "code",
   "execution_count": null,
   "metadata": {},
   "outputs": [],
   "source": [
    "salt=ds['SALT']\n",
    "temp=ds['TEMP']\n",
    "\n",
    "#get stuff from POP EOS\n",
    "rho,drhods,drhodt=pop_tools.eos(salt=salt,temp=temp,return_coefs=True,depth=depth_top)\n",
    "\n",
    "#construct alpha and beta using POP methods\n",
    "alpha=-1*drhodt/rho\n",
    "beta=drhods/rho"
   ]
  },
  {
   "cell_type": "code",
   "execution_count": null,
   "metadata": {},
   "outputs": [],
   "source": [
    "#adjusting SHF to make for total heat part, adding QFLUX, then dividing by cp dw\n",
    "shf_scaled = (ds['SHF']+ds['QFLUX'])/cp"
   ]
  },
  {
   "cell_type": "code",
   "execution_count": null,
   "metadata": {},
   "outputs": [],
   "source": [
    "#adjusting FW to remove the frazil part, then multiplying to turn salt flux into FW flux\n",
    "fw_scaled = (ds['SFWF'] - ds['QFLUX']/fusion)*(salt/1000)/(1-salt/1000)\n"
   ]
  },
  {
   "cell_type": "code",
   "execution_count": null,
   "metadata": {},
   "outputs": [],
   "source": [
    "\n",
    "#multiply by alpha and beta to get density fluxes\n",
    "heatpart=-alpha*shf_scaled\n",
    "fwpart=-1*fw_scaled*beta\n",
    "\n",
    "#combine to get total boundary forced density flux\n",
    "densflux=heatpart+fwpart"
   ]
  },
  {
   "cell_type": "code",
   "execution_count": null,
   "metadata": {},
   "outputs": [],
   "source": [
    "#function for WMT \n",
    "def wmtrans(oneflux,dens_class,rho):\n",
    "    binsize = dens_class[2]-dens_class[1]\n",
    "    #assumes uniform density class spacing\n",
    "    wmt=[]\n",
    "    for ii in range(len(dens_class[0:-1])):\n",
    "        densf_byclass = oneflux.where((rho>=dens_class[ii]) & (rho<dens_class[ii+1]),np.nan)\n",
    "        wmt.append((densf_byclass*tarea).sum(['nlat','nlon'])/binsize)\n",
    "    wmt = xr.concat(wmt, dim = sigma)\n",
    "    return wmt\n",
    "    \n",
    "#set up density classes\n",
    "binsize = 0.1 #typical value used\n",
    "dens_class = np.arange(np.floor(rho.min()),np.ceil(rho.max()),binsize)\n",
    "sigma = xr.DataArray(dens_class[0:-1]+binsize/2-1000, dims=['sigma'], coords={'sigma':dens_class[0:-1]+binsize/2-1000})\n",
    "\n",
    "#calculate the WMT\n",
    "wmt = wmtrans(densflux, dens_class, rho)\n",
    "wmt_heat = wmtrans(heatpart, dens_class, rho)\n",
    "wmt_fw = wmtrans(fwpart, dens_class, rho)\n",
    "\n",
    "   \n",
    "wmf = - wmt.diff('sigma')/binsize\n",
    "wmf = wmf.assign_coords({'sigma':sigma[0:-1]+binsize/2})"
   ]
  },
  {
   "cell_type": "code",
   "execution_count": null,
   "metadata": {},
   "outputs": [],
   "source": [
    "#transformation\n",
    "f=plt.figure()\n",
    "plt.plot(wmt.sigma,wmt.isel(time=slice(0,12)).mean('time')/1e6, label='total')\n",
    "plt.plot(wmt.sigma,wmt_heat.isel(time=slice(0,12)).mean('time')/1e6, label ='heat')\n",
    "plt.plot(wmt.sigma,wmt_fw.isel(time=0)/1e6, label ='fw')\n",
    "plt.xlabel('sigma')\n",
    "plt.ylabel('WMT (Sv)')\n",
    "plt.legend()\n",
    "\n",
    "#formation\n",
    "f=plt.figure()\n",
    "plt.plot(wmf.sigma,wmf.isel(time=0)/1e6)\n",
    "plt.xlabel('sigma')\n",
    "plt.ylabel('WMF (Sv)')\n"
   ]
  },
  {
   "cell_type": "markdown",
   "metadata": {},
   "source": [
    "To calculate the WMT due to any other process, read in any diag that contributes a freshwater flux, heat flux, or salt flux. In general freshwater fluxes get treated the same as the total freshwater flux above, while heat fluxes get treated the same as heat flux, though there are some exceptions for individual terms, which are noted below. All variables needed for a close to full decomposition are loaded in above. It would probably worthwhile checking with someone to ask about any other possible sources of transformation not included above. EBM? Robert filter? "
   ]
  },
  {
   "cell_type": "code",
   "execution_count": null,
   "metadata": {},
   "outputs": [],
   "source": [
    "#salt flux (brine rejection) needs to be scaled from kg salt to a practical salinity\n",
    "salinity_factor = ds['salinity_factor']\n",
    "sflux_factor = ds['sflux_factor']            \n",
    "\n",
    "salt_f_fixed = ds['SALT_F']*sflux_factor/salinity_factor  \n",
    "#can now be multiplied by beta to convert to a surface density flux"
   ]
  },
  {
   "cell_type": "code",
   "execution_count": null,
   "metadata": {},
   "outputs": [],
   "source": [
    "#freshwater flux from qflux (frazil)\n",
    "\n",
    "qflux_fw_fixed = -1*ds['QFLUX']/fusion\n",
    "#can now be multiplied by beta to convert to a surf dens flux"
   ]
  },
  {
   "cell_type": "code",
   "execution_count": null,
   "metadata": {},
   "outputs": [],
   "source": [
    "#to get latent heat flux, need to convert EVAP_F from FW flux to heat flux via latent heat of vaporization\n",
    "vaporization = ds['latent_heat_vapor']\n",
    "\n",
    "latent_heat = ds['EVAP_F']*vaporization\n",
    "#can now be multiplied by alpha to convert to a surf dens flux"
   ]
  },
  {
   "cell_type": "code",
   "execution_count": null,
   "metadata": {},
   "outputs": [],
   "source": [
    "#snow melt needs to be converted from a FW flux to a heat flux via latent heat of fusion\n",
    "snow_melt_heating = ds['SNOW_F']*fusion*-1\n",
    "#Multiplied by negative one b/c melt (positive) leads to cooling (negative)\n",
    "#can now be multiplied by alpha to convert to a surf dens flux"
   ]
  },
  {
   "cell_type": "code",
   "execution_count": null,
   "metadata": {},
   "outputs": [],
   "source": [
    "#same goes for ice melt runoff (solid)\n",
    "ioff_heating = ds['IOFF_F']*fusion*-1"
   ]
  },
  {
   "cell_type": "code",
   "execution_count": null,
   "metadata": {},
   "outputs": [],
   "source": []
  },
  {
   "cell_type": "code",
   "execution_count": null,
   "metadata": {},
   "outputs": [],
   "source": []
  }
 ],
 "metadata": {
  "kernelspec": {
   "display_name": "Python 3",
   "language": "python",
   "name": "python3"
  },
  "language_info": {
   "codemirror_mode": {
    "name": "ipython",
    "version": 3
   },
   "file_extension": ".py",
   "mimetype": "text/x-python",
   "name": "python",
   "nbconvert_exporter": "python",
   "pygments_lexer": "ipython3",
   "version": "3.7.3"
  }
 },
 "nbformat": 4,
 "nbformat_minor": 4
}
